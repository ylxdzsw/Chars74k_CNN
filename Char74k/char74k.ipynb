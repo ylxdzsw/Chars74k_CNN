{
 "cells": [
  {
   "cell_type": "code",
   "execution_count": 2,
   "metadata": {
    "collapsed": false
   },
   "outputs": [],
   "source": [
    "using Images\n",
    "using DataFrames\n",
    "using ImageMagick\n",
    "using DecisionTree"
   ]
  },
  {
   "cell_type": "code",
   "execution_count": 3,
   "metadata": {
    "collapsed": false
   },
   "outputs": [
    {
     "name": "stdout",
     "output_type": "stream",
     "text": [
      "150.647623 seconds (19.82 M allocations: 467.841 MB, 0.16% gc time)\n",
      "142.976898 seconds (15.48 M allocations: 282.952 MB, 0.09% gc time)\n"
     ]
    }
   ],
   "source": [
    "function load_data(file, dir)\n",
    "    table = readtable(file)\n",
    "    n = size(table,1)\n",
    "    set = zeros(Float32, n, 400)\n",
    "    predict = zeros(UInt8, size(table, 1))\n",
    "    \n",
    "    function gray(pixelArray)\n",
    "        map(pixelArray) do x\n",
    "            x.r+x.g+x.b / 3.0f0\n",
    "        end\n",
    "    end\n",
    "    \n",
    "    for i in 1:n\n",
    "        set[i,:] = load(\"$(dir)/$(table[i,1]).Bmp\").data |> gray\n",
    "        predict[i] = table[i,2][1] |> UInt8\n",
    "    end\n",
    "\n",
    "    (predict, set)\n",
    "end\n",
    "\n",
    "(yTrain, xTrain) = @time load_data(\"trainLabels.csv\", \"trainResized\")\n",
    "(yTest, xTest) = @time load_data(\"sampleSubmission.csv\", \"testResized\")\n",
    "\n",
    ";"
   ]
  },
  {
   "cell_type": "code",
   "execution_count": null,
   "metadata": {
    "collapsed": false
   },
   "outputs": [],
   "source": [
    "rfmodel = @time build_forest(yTrain, xTrain, 20, 50)\n",
    "submission = readtable(\"sampleSubmission.csv\")\n",
    "submission[:,2] = map(Char, apply_forest(rfmodel, xTest))\n",
    "writetable(\"submission.csv\", submission)"
   ]
  }
 ],
 "metadata": {
  "kernelspec": {
   "display_name": "Julia 0.4.2",
   "language": "julia",
   "name": "julia-0.4"
  },
  "language_info": {
   "file_extension": ".jl",
   "mimetype": "application/julia",
   "name": "julia",
   "version": "0.4.2"
  }
 },
 "nbformat": 4,
 "nbformat_minor": 0
}
