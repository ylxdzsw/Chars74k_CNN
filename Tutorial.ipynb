{
 "cells": [
  {
   "cell_type": "code",
   "execution_count": 11,
   "metadata": {
    "collapsed": false
   },
   "outputs": [],
   "source": [
    "using Images\n",
    "using DataFrames\n",
    "using ImageMagick\n",
    "using DecisionTree"
   ]
  },
  {
   "cell_type": "code",
   "execution_count": 3,
   "metadata": {
    "collapsed": false
   },
   "outputs": [
    {
     "name": "stdout",
     "output_type": "stream",
     "text": [
      "151.292672 seconds (22.33 M allocations: 505.823 MB, 0.15% gc time)\n",
      "153.425100 seconds (17.97 M allocations: 320.915 MB, 0.09% gc time)\n"
     ]
    }
   ],
   "source": [
    "function load_data(file, dir)\n",
    "    table = readtable(file)\n",
    "    n = size(table,1)\n",
    "    set = zeros(Float32, n, 400)\n",
    "    predict = zeros(UInt8, size(table, 1))\n",
    "    \n",
    "    function gray(pixelArray)\n",
    "        map(pixelArray) do x\n",
    "            x.r+x.g+x.b |> Float32\n",
    "        end\n",
    "    end\n",
    "    \n",
    "    for i in 1:n\n",
    "        set[i,:] = load(\"$(dir)/$(table[i,1]).Bmp\").data |> gray\n",
    "        predict[i] = table[i,2][1] |> UInt8\n",
    "    end\n",
    "\n",
    "    (predict, set)\n",
    "end\n",
    "\n",
    "(yTrain, xTrain) = @time load_data(\"trainLabels.csv\", \"trainResized\")\n",
    "(yTest, xTest) = @time load_data(\"sampleSubmission.csv\", \"testResized\")\n",
    "\n",
    ";"
   ]
  },
  {
   "cell_type": "code",
   "execution_count": 28,
   "metadata": {
    "collapsed": false
   },
   "outputs": [],
   "source": [
    "rfmodel = @time build_forest(yTrain, xTrain, 20, 50)\n",
    "submission = readtable(\"sampleSubmission.csv\")\n",
    "submission[:,2] = map(Char, apply_forest(rfmodel, xTest))\n",
    "writetable(\"submission.csv\", submission)"
   ]
  },
  {
   "cell_type": "code",
   "execution_count": 26,
   "metadata": {
    "collapsed": false
   },
   "outputs": [
    {
     "name": "stdout",
     "output_type": "stream",
     "text": [
      "search: "
     ]
    },
    {
     "data": {
      "text/latex": [
       "\\begin{verbatim}\n",
       "writedlm(f, A, delim='\\\\t')\n",
       "\\end{verbatim}\n",
       "Write \\texttt{A} (a vector, matrix or an iterable collection of iterable rows) as text to \\texttt{f} (either a filename string or an \\texttt{IO} stream) using the given delimeter \\texttt{delim} (which defaults to tab, but can be any printable Julia object, typically a \\texttt{Char} or \\texttt{AbstractString}).\n",
       "For example, two vectors \\texttt{x} and \\texttt{y} of the same length can be written as two columns of tab-delimited text to \\texttt{f} by either \\texttt{writedlm(f, [x y])} or by \\texttt{writedlm(f, zip(x, y))}.\n"
      ],
      "text/markdown": [
       "```\n",
       "writedlm(f, A, delim='\\\\t')\n",
       "```\n",
       "\n",
       "Write `A` (a vector, matrix or an iterable collection of iterable rows) as text to `f` (either a filename string or an `IO` stream) using the given delimeter `delim` (which defaults to tab, but can be any printable Julia object, typically a `Char` or `AbstractString`).\n",
       "\n",
       "For example, two vectors `x` and `y` of the same length can be written as two columns of tab-delimited text to `f` by either `writedlm(f, [x y])` or by `writedlm(f, zip(x, y))`.\n"
      ],
      "text/plain": [
       "```\n",
       "writedlm(f, A, delim='\\\\t')\n",
       "```\n",
       "\n",
       "Write `A` (a vector, matrix or an iterable collection of iterable rows) as text to `f` (either a filename string or an `IO` stream) using the given delimeter `delim` (which defaults to tab, but can be any printable Julia object, typically a `Char` or `AbstractString`).\n",
       "\n",
       "For example, two vectors `x` and `y` of the same length can be written as two columns of tab-delimited text to `f` by either `writedlm(f, [x y])` or by `writedlm(f, zip(x, y))`.\n"
      ]
     },
     "execution_count": 26,
     "metadata": {},
     "output_type": "execute_result"
    },
    {
     "name": "stdout",
     "output_type": "stream",
     "text": [
      "writedlm\n",
      "\n"
     ]
    }
   ],
   "source": []
  },
  {
   "cell_type": "code",
   "execution_count": null,
   "metadata": {
    "collapsed": true
   },
   "outputs": [],
   "source": []
  }
 ],
 "metadata": {
  "kernelspec": {
   "display_name": "Julia 0.4.2",
   "language": "julia",
   "name": "julia-0.4"
  },
  "language_info": {
   "file_extension": ".jl",
   "mimetype": "application/julia",
   "name": "julia",
   "version": "0.4.2"
  }
 },
 "nbformat": 4,
 "nbformat_minor": 0
}
